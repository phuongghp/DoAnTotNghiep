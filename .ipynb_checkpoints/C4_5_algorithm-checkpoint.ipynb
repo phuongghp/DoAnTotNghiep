{
 "cells": [
  {
   "cell_type": "code",
   "execution_count": 41,
   "metadata": {
    "colab": {
     "base_uri": "https://localhost:8080/"
    },
    "id": "kf9orUcEB_nF",
    "outputId": "021c0d7d-e1e9-4ce9-ef7f-50963894ab8e"
   },
   "outputs": [
    {
     "name": "stderr",
     "output_type": "stream",
     "text": [
      "Cloning into 'chefboost'...\n"
     ]
    }
   ],
   "source": [
    "!git clone https://github.com/serengil/chefboost.git"
   ]
  },
  {
   "cell_type": "code",
   "execution_count": 42,
   "metadata": {
    "colab": {
     "base_uri": "https://localhost:8080/"
    },
    "id": "QLwMrx8ER3d2",
    "outputId": "3ebb9daa-d669-4deb-a497-d67d089a2d4d"
   },
   "outputs": [
    {
     "name": "stdout",
     "output_type": "stream",
     "text": [
      "d:\\DATN\\Code4\\chefboost\\chefboost\\chefboost\\chefboost\\chefboost\n",
      "Obtaining file:///D:/DATN/Code4/chefboost/chefboost/chefboost/chefboost/chefboost\n",
      "  Preparing metadata (setup.py): started\n",
      "  Preparing metadata (setup.py): finished with status 'done'\n",
      "Requirement already satisfied: pandas>=0.22.0 in c:\\users\\lenovo\\miniconda3\\envs\\py_39\\lib\\site-packages (from chefboost==0.0.18) (2.2.1)\n",
      "Requirement already satisfied: numpy>=1.14.0 in c:\\users\\lenovo\\miniconda3\\envs\\py_39\\lib\\site-packages (from chefboost==0.0.18) (1.26.4)\n",
      "Requirement already satisfied: tqdm>=4.30.0 in c:\\users\\lenovo\\miniconda3\\envs\\py_39\\lib\\site-packages (from chefboost==0.0.18) (4.66.4)\n",
      "Requirement already satisfied: psutil>=5.4.3 in c:\\users\\lenovo\\miniconda3\\envs\\py_39\\lib\\site-packages (from chefboost==0.0.18) (5.9.8)\n",
      "Requirement already satisfied: python-dateutil>=2.8.2 in c:\\users\\lenovo\\miniconda3\\envs\\py_39\\lib\\site-packages (from pandas>=0.22.0->chefboost==0.0.18) (2.9.0)\n",
      "Requirement already satisfied: pytz>=2020.1 in c:\\users\\lenovo\\miniconda3\\envs\\py_39\\lib\\site-packages (from pandas>=0.22.0->chefboost==0.0.18) (2024.1)\n",
      "Requirement already satisfied: tzdata>=2022.7 in c:\\users\\lenovo\\miniconda3\\envs\\py_39\\lib\\site-packages (from pandas>=0.22.0->chefboost==0.0.18) (2024.1)\n",
      "Requirement already satisfied: colorama in c:\\users\\lenovo\\miniconda3\\envs\\py_39\\lib\\site-packages (from tqdm>=4.30.0->chefboost==0.0.18) (0.4.6)\n",
      "Requirement already satisfied: six>=1.5 in c:\\users\\lenovo\\miniconda3\\envs\\py_39\\lib\\site-packages (from python-dateutil>=2.8.2->pandas>=0.22.0->chefboost==0.0.18) (1.16.0)\n",
      "Installing collected packages: chefboost\n",
      "  Attempting uninstall: chefboost\n",
      "    Found existing installation: chefboost 0.0.18\n",
      "    Uninstalling chefboost-0.0.18:\n",
      "      Successfully uninstalled chefboost-0.0.18\n",
      "  Running setup.py develop for chefboost\n",
      "Successfully installed chefboost-0.0.18\n",
      "Note: you may need to restart the kernel to use updated packages.\n"
     ]
    }
   ],
   "source": [
    "%cd chefboost\n",
    "%pip install -e ."
   ]
  },
  {
   "cell_type": "code",
   "execution_count": 43,
   "metadata": {
    "id": "dISzV6NIBkJw"
   },
   "outputs": [],
   "source": [
    "import pandas as pd\n",
    "from chefboost import Chefboost as chef"
   ]
  },
  {
   "cell_type": "code",
   "execution_count": 52,
   "metadata": {
    "colab": {
     "base_uri": "https://localhost:8080/",
     "height": 435
    },
    "id": "F3ljv_UqBsZd",
    "outputId": "ccb6e3a4-cac1-4908-fbcd-2573f1e18e03"
   },
   "outputs": [
    {
     "data": {
      "text/html": [
       "<div>\n",
       "<style scoped>\n",
       "    .dataframe tbody tr th:only-of-type {\n",
       "        vertical-align: middle;\n",
       "    }\n",
       "\n",
       "    .dataframe tbody tr th {\n",
       "        vertical-align: top;\n",
       "    }\n",
       "\n",
       "    .dataframe thead th {\n",
       "        text-align: right;\n",
       "    }\n",
       "</style>\n",
       "<table border=\"1\" class=\"dataframe\">\n",
       "  <thead>\n",
       "    <tr style=\"text-align: right;\">\n",
       "      <th></th>\n",
       "      <th>Kỹ năng mềm</th>\n",
       "      <th>Đại số tuyến tính</th>\n",
       "      <th>Giải tích 1</th>\n",
       "      <th>Tin học đại cương</th>\n",
       "      <th>Vật lý điện từ</th>\n",
       "      <th>Giải tích 2</th>\n",
       "      <th>Lập trình nâng cao</th>\n",
       "      <th>Decision</th>\n",
       "    </tr>\n",
       "  </thead>\n",
       "  <tbody>\n",
       "    <tr>\n",
       "      <th>0</th>\n",
       "      <td>D</td>\n",
       "      <td>D</td>\n",
       "      <td>D</td>\n",
       "      <td>C</td>\n",
       "      <td>D</td>\n",
       "      <td>C</td>\n",
       "      <td>B</td>\n",
       "      <td>Khá</td>\n",
       "    </tr>\n",
       "    <tr>\n",
       "      <th>1</th>\n",
       "      <td>B</td>\n",
       "      <td>C</td>\n",
       "      <td>A</td>\n",
       "      <td>D</td>\n",
       "      <td>C</td>\n",
       "      <td>B</td>\n",
       "      <td>A</td>\n",
       "      <td>Giỏi</td>\n",
       "    </tr>\n",
       "    <tr>\n",
       "      <th>2</th>\n",
       "      <td>C</td>\n",
       "      <td>C</td>\n",
       "      <td>C</td>\n",
       "      <td>B</td>\n",
       "      <td>C</td>\n",
       "      <td>D</td>\n",
       "      <td>C</td>\n",
       "      <td>Khá</td>\n",
       "    </tr>\n",
       "    <tr>\n",
       "      <th>3</th>\n",
       "      <td>C</td>\n",
       "      <td>C</td>\n",
       "      <td>D</td>\n",
       "      <td>A</td>\n",
       "      <td>D</td>\n",
       "      <td>D</td>\n",
       "      <td>B</td>\n",
       "      <td>Khá</td>\n",
       "    </tr>\n",
       "    <tr>\n",
       "      <th>4</th>\n",
       "      <td>B</td>\n",
       "      <td>B</td>\n",
       "      <td>B</td>\n",
       "      <td>D</td>\n",
       "      <td>B</td>\n",
       "      <td>A</td>\n",
       "      <td>C</td>\n",
       "      <td>Khá</td>\n",
       "    </tr>\n",
       "  </tbody>\n",
       "</table>\n",
       "</div>"
      ],
      "text/plain": [
       "  Kỹ năng mềm Đại số tuyến tính Giải tích 1 Tin học đại cương Vật lý điện từ  \\\n",
       "0           D                 D           D                 C              D   \n",
       "1           B                 C           A                 D              C   \n",
       "2           C                 C           C                 B              C   \n",
       "3           C                 C           D                 A              D   \n",
       "4           B                 B           B                 D              B   \n",
       "\n",
       "  Giải tích 2 Lập trình nâng cao Decision  \n",
       "0           C                  B      Khá  \n",
       "1           B                  A     Giỏi  \n",
       "2           D                  C      Khá  \n",
       "3           D                  B      Khá  \n",
       "4           A                  C      Khá  "
      ]
     },
     "execution_count": 52,
     "metadata": {},
     "output_type": "execute_result"
    }
   ],
   "source": [
    "# Read the Excel file from Google Drive\n",
    "df = pd.read_excel('D:\\DATN\\Code4\\BangDiem\\SinhVienNam1_HeChu_clean.xlsx')\n",
    "df = df.rename(columns={'Xếp loại học tập': 'Decision'})\n",
    "data = df\n",
    "data.head(5)\n"
   ]
  },
  {
   "cell_type": "code",
   "execution_count": null,
   "metadata": {
    "colab": {
     "base_uri": "https://localhost:8080/",
     "height": 308
    },
    "id": "k9LkvWw0LQ_U",
    "outputId": "92bd22ce-a801-41f8-dc82-adc606da909f"
   },
   "outputs": [
    {
     "data": {
      "text/html": [
       "<div>\n",
       "<style scoped>\n",
       "    .dataframe tbody tr th:only-of-type {\n",
       "        vertical-align: middle;\n",
       "    }\n",
       "\n",
       "    .dataframe tbody tr th {\n",
       "        vertical-align: top;\n",
       "    }\n",
       "\n",
       "    .dataframe thead th {\n",
       "        text-align: right;\n",
       "    }\n",
       "</style>\n",
       "<table border=\"1\" class=\"dataframe\">\n",
       "  <thead>\n",
       "    <tr style=\"text-align: right;\">\n",
       "      <th></th>\n",
       "      <th>Kỹ năng mềm</th>\n",
       "      <th>Đại số tuyến tính</th>\n",
       "      <th>Giải tích 1</th>\n",
       "      <th>Tin học đại cương</th>\n",
       "      <th>Vật lý điện từ</th>\n",
       "      <th>Giải tích 2</th>\n",
       "      <th>Lập trình nâng cao</th>\n",
       "      <th>Decision</th>\n",
       "    </tr>\n",
       "  </thead>\n",
       "  <tbody>\n",
       "    <tr>\n",
       "      <th>0</th>\n",
       "      <td>D</td>\n",
       "      <td>D</td>\n",
       "      <td>D</td>\n",
       "      <td>C</td>\n",
       "      <td>D</td>\n",
       "      <td>C</td>\n",
       "      <td>B</td>\n",
       "      <td>Khá</td>\n",
       "    </tr>\n",
       "    <tr>\n",
       "      <th>1</th>\n",
       "      <td>B</td>\n",
       "      <td>C</td>\n",
       "      <td>A</td>\n",
       "      <td>D</td>\n",
       "      <td>C</td>\n",
       "      <td>B</td>\n",
       "      <td>A</td>\n",
       "      <td>Giỏi</td>\n",
       "    </tr>\n",
       "    <tr>\n",
       "      <th>2</th>\n",
       "      <td>C</td>\n",
       "      <td>C</td>\n",
       "      <td>C</td>\n",
       "      <td>B</td>\n",
       "      <td>C</td>\n",
       "      <td>D</td>\n",
       "      <td>C</td>\n",
       "      <td>Khá</td>\n",
       "    </tr>\n",
       "    <tr>\n",
       "      <th>3</th>\n",
       "      <td>C</td>\n",
       "      <td>C</td>\n",
       "      <td>D</td>\n",
       "      <td>A</td>\n",
       "      <td>D</td>\n",
       "      <td>D</td>\n",
       "      <td>B</td>\n",
       "      <td>Khá</td>\n",
       "    </tr>\n",
       "    <tr>\n",
       "      <th>4</th>\n",
       "      <td>B</td>\n",
       "      <td>B</td>\n",
       "      <td>B</td>\n",
       "      <td>D</td>\n",
       "      <td>B</td>\n",
       "      <td>A</td>\n",
       "      <td>C</td>\n",
       "      <td>Khá</td>\n",
       "    </tr>\n",
       "  </tbody>\n",
       "</table>\n",
       "</div>"
      ],
      "text/plain": [
       "  Kỹ năng mềm Đại số tuyến tính Giải tích 1 Tin học đại cương Vật lý điện từ  \\\n",
       "0           D                 D           D                 C              D   \n",
       "1           B                 C           A                 D              C   \n",
       "2           C                 C           C                 B              C   \n",
       "3           C                 C           D                 A              D   \n",
       "4           B                 B           B                 D              B   \n",
       "\n",
       "  Giải tích 2 Lập trình nâng cao Decision  \n",
       "0           C                  B      Khá  \n",
       "1           B                  A     Giỏi  \n",
       "2           D                  C      Khá  \n",
       "3           D                  B      Khá  \n",
       "4           A                  C      Khá  "
      ]
     },
     "execution_count": 33,
     "metadata": {},
     "output_type": "execute_result"
    }
   ],
   "source": [
    "data_tot_nghiep = data.iloc[:,:]\n",
    "data_tot_nghiep.head(5)"
   ]
  },
  {
   "cell_type": "code",
   "execution_count": null,
   "metadata": {
    "colab": {
     "base_uri": "https://localhost:8080/"
    },
    "id": "7bMisx1ZCeV4",
    "outputId": "05e5a0b0-b022-4383-9b01-0ac5bd54a215"
   },
   "outputs": [
    {
     "name": "stdout",
     "output_type": "stream",
     "text": [
      "24-06-08 21:07:39 - [INFO]: 6 CPU cores will be allocated in parallel running\n",
      "24-06-08 21:07:39 - C4.5 tree is going to be built...\n",
      "24-06-08 21:08:15 - -------------------------\n",
      "24-06-08 21:08:15 - finished in 35.57775020599365 seconds\n",
      "24-06-08 21:08:15 - -------------------------\n",
      "24-06-08 21:08:15 - Evaluate train set\n",
      "24-06-08 21:08:15 - -------------------------\n",
      "24-06-08 21:08:15 - Accuracy: 84.33382137628111% on 683 instances\n",
      "24-06-08 21:08:15 - Labels: ['Khá' 'Giỏi' 'Xuất sắc' 'Trung bình' 'Chưa Xếp Loại']\n",
      "24-06-08 21:08:15 - Confusion matrix: [[235, 5, 0, 1, 38], [12, 126, 14, 0, 18], [0, 3, 13, 0, 0], [1, 0, 0, 16, 5], [8, 0, 0, 2, 186]]\n",
      "24-06-08 21:08:15 - Decision Khá\n",
      "24-06-08 21:08:15 - Accuracy: 90.4832\n",
      "24-06-08 21:08:15 - Precision: 84.2294%, Recall: 91.7969%, F1: 87.8505%\n",
      "24-06-08 21:08:15 - Decision Giỏi\n",
      "24-06-08 21:08:15 - Accuracy: 92.3865\n",
      "24-06-08 21:08:15 - Precision: 74.1176%, Recall: 94.0299%, F1: 82.8947%\n",
      "24-06-08 21:08:15 - Decision Xuất sắc\n",
      "24-06-08 21:08:15 - Accuracy: 97.511\n",
      "24-06-08 21:08:15 - Precision: 81.25%, Recall: 48.1481%, F1: 60.4651%\n",
      "24-06-08 21:08:15 - Decision Trung bình\n",
      "24-06-08 21:08:15 - Accuracy: 98.6823\n",
      "24-06-08 21:08:15 - Precision: 72.7273%, Recall: 84.2105%, F1: 78.0488%\n",
      "24-06-08 21:08:15 - Decision Chưa Xếp Loại\n",
      "24-06-08 21:08:15 - Accuracy: 89.6047\n",
      "24-06-08 21:08:15 - Precision: 94.898%, Recall: 75.3036%, F1: 83.9729%\n"
     ]
    }
   ],
   "source": [
    "# 'enableParallelism' (boolean): False\n",
    "\n",
    "# 'enableGBM' (boolean): True,\n",
    "# 'epochs' (int): 7,\n",
    "# 'learning_rate' (int): 1,\n",
    "\n",
    "# 'enableRandomForest' (boolean): True,\n",
    "# 'num_of_trees' (int): 5,\n",
    "\n",
    "# 'enableAdaboost' (boolean): True,\n",
    "# 'num_of_weak_classifier' (int): 4\n",
    "\n",
    "config = {'algorithm': 'C4.5'}\n",
    "model = chef.fit(data_tot_nghiep, config = config)"
   ]
  },
  {
   "cell_type": "code",
   "execution_count": null,
   "metadata": {
    "id": "uFKJHFZAPxlv"
   },
   "outputs": [],
   "source": [
    "# data_tot_nghiep.iloc[177]"
   ]
  },
  {
   "cell_type": "code",
   "execution_count": null,
   "metadata": {
    "colab": {
     "base_uri": "https://localhost:8080/",
     "height": 56
    },
    "id": "z94OwDhXjVz6",
    "outputId": "56b43344-fa11-4437-965d-e09c3fcb3603"
   },
   "outputs": [
    {
     "data": {
      "text/plain": [
       "'Khá'"
      ]
     },
     "execution_count": 36,
     "metadata": {},
     "output_type": "execute_result"
    }
   ],
   "source": [
    "prediction = chef.predict(model, param = data.iloc[5, :-1].to_list())\n",
    "prediction"
   ]
  },
  {
   "cell_type": "code",
   "execution_count": null,
   "metadata": {
    "id": "kKQuR7hdMGiH"
   },
   "outputs": [],
   "source": [
    "chef.save_model(model, \"SVN1_Hechu.pkl\")"
   ]
  }
 ],
 "metadata": {
  "colab": {
   "provenance": []
  },
  "kernelspec": {
   "display_name": "Python 3 (ipykernel)",
   "language": "python",
   "name": "python3"
  },
  "language_info": {
   "codemirror_mode": {
    "name": "ipython",
    "version": 3
   },
   "file_extension": ".py",
   "mimetype": "text/x-python",
   "name": "python",
   "nbconvert_exporter": "python",
   "pygments_lexer": "ipython3",
   "version": "3.9.17"
  }
 },
 "nbformat": 4,
 "nbformat_minor": 4
}
